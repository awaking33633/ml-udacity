{
 "metadata": {
  "name": "",
  "signature": "sha256:761d8b24aaca00130553867483a29e92bb6e3366bd5770c190b6f0f958bad048"
 },
 "nbformat": 3,
 "nbformat_minor": 0,
 "worksheets": [
  {
   "cells": [
    {
     "cell_type": "markdown",
     "metadata": {},
     "source": [
      "Supervised Learning has divided into 2 major category, classfication and regression. The classfication is where the machine learning algorithm predict discrete output, the regresion predict continuous output, hence often called Continuous Supervised Learning.\n",
      "<!-- TEASER_END -->"
     ]
    },
    {
     "cell_type": "markdown",
     "metadata": {},
     "source": [
      "![jpg](../galleries/regression/1.jpg)"
     ]
    },
    {
     "cell_type": "markdown",
     "metadata": {},
     "source": [
      "This is examples to differentiate classification and regression. It's pretty easy to distinct that, discrete is categorical. Continuous is order, and regression is non-order."
     ]
    },
    {
     "cell_type": "markdown",
     "metadata": {},
     "source": [
      "![jpg](../galleries/regression/2.jpg)"
     ]
    },
    {
     "cell_type": "markdown",
     "metadata": {},
     "source": [
      "For terrain classification, this supposed to be continuous output."
     ]
    },
    {
     "cell_type": "markdown",
     "metadata": {},
     "source": [
      "![jpg](../galleries/regression/3.jpg)"
     ]
    },
    {
     "cell_type": "markdown",
     "metadata": {},
     "source": [
      "This is the slope(gradient) and intercept(bias) that we have for (linear) regression. \n",
      "\n",
      "To get better understanding about the intercept and the slope, see quiz below"
     ]
    },
    {
     "cell_type": "markdown",
     "metadata": {},
     "source": [
      "![jpg](../galleries/regression/3.jpg)"
     ]
    },
    {
     "cell_type": "code",
     "collapsed": false,
     "input": [
      "%ls"
     ],
     "language": "python",
     "metadata": {},
     "outputs": [
      {
       "output_type": "stream",
       "stream": "stdout",
       "text": [
        "finance_regression.py  regression-ud.ipynb\r\n"
       ]
      }
     ],
     "prompt_number": 1
    },
    {
     "cell_type": "code",
     "collapsed": false,
     "input": [
      "%pylab inline"
     ],
     "language": "python",
     "metadata": {},
     "outputs": [
      {
       "output_type": "stream",
       "stream": "stdout",
       "text": [
        "Populating the interactive namespace from numpy and matplotlib\n"
       ]
      }
     ],
     "prompt_number": 3
    },
    {
     "cell_type": "heading",
     "level": 3,
     "metadata": {},
     "source": [
      "r-squared"
     ]
    },
    {
     "cell_type": "markdown",
     "metadata": {},
     "source": [
      "![jpg](../galleries/regression/7.jpg)"
     ]
    },
    {
     "cell_type": "markdown",
     "metadata": {},
     "source": [
      "As always, r-squared is important to measure based on the performance of our learning algorithm against the test set. For this, r-squared is the acuracy which just using clf.score() if we're using scikit-learn. This r-squared is perfomance metric that if you're closely correct, you would approach 1(or -1, depending on the case) and approach zero if you have poor perfomance"
     ]
    },
    {
     "cell_type": "markdown",
     "metadata": {},
     "source": [
      "Let's see how we got to the problem this far."
     ]
    },
    {
     "cell_type": "code",
     "collapsed": false,
     "input": [
      "%%writefile ages_net_worths.py\n",
      "\n",
      "import numpy\n",
      "import random\n",
      "\n",
      "def ageNetWorthData():\n",
      "\n",
      "    random.seed(42)\n",
      "    numpy.random.seed(42)\n",
      "\n",
      "    ages = []\n",
      "    for ii in range(100):\n",
      "        ages.append( random.randint(20,65) )\n",
      "    net_worths = [ii * 6.25 + numpy.random.normal(scale=40.) for ii in ages]\n",
      "### need massage list into a 2d numpy array to get it to work in LinearRegression\n",
      "    ages       = numpy.reshape( numpy.array(ages), (len(ages), 1))\n",
      "    net_worths = numpy.reshape( numpy.array(net_worths), (len(net_worths), 1))\n",
      "\n",
      "    from sklearn.cross_validation import train_test_split\n",
      "    ages_train, ages_test, net_worths_train, net_worths_test = train_test_split(ages, net_worths)\n",
      "\n",
      "    return ages_train, ages_test, net_worths_train, net_worths_test"
     ],
     "language": "python",
     "metadata": {},
     "outputs": [
      {
       "output_type": "stream",
       "stream": "stdout",
       "text": [
        "Writing ages_net_worths.py\n"
       ]
      }
     ],
     "prompt_number": 19
    },
    {
     "cell_type": "code",
     "collapsed": false,
     "input": [
      "# %%writefile regressionQuiz.py\n",
      "\n",
      "import numpy\n",
      "import matplotlib.pyplot as plt\n",
      "\n",
      "from ages_net_worths import ageNetWorthData\n",
      "\n",
      "ages_train, ages_test, net_worths_train, net_worths_test = ageNetWorthData()\n",
      "\n",
      "\n",
      "\n",
      "from sklearn.linear_model import LinearRegression\n",
      "\n",
      "reg = LinearRegression()\n",
      "reg.fit(ages_train, net_worths_train)\n",
      "\n",
      "### get Katie's net worth (she's 27)\n",
      "### sklearn predictions are returned in an array,\n",
      "### so you'll want to do something like net_worth = predict([27])[0]\n",
      "### (not exact syntax, the point is that [0] at the end)\n",
      "km_net_worth = reg.predict([27])[0] ### fill in the line of code to get the right value\n",
      "\n",
      "### get the slope\n",
      "### again, you'll get a 2-D array, so stick the [0][0] at the end\n",
      "slope = reg.coef_ ### fill in the line of code to get the right value\n",
      "\n",
      "### get the intercept\n",
      "### here you get a 1-D array, so stick [0] on the end to access\n",
      "### the info we want\n",
      "intercept = reg.intercept_ ### fill in the line of code to get the right value\n",
      "\n",
      "\n",
      "### get the score on test data\n",
      "test_score = reg.score(ages_test,net_worths_test) ### fill in the line of code to get the right value\n",
      "\n",
      "\n",
      "### get the score on the training data\n",
      "training_score = reg.score(ages_train,net_worths_train) ### fill in the line of code to get the right value\n",
      "\n",
      "\n",
      "\n",
      "def submitFit():\n",
      "    return {\"networth\":km_net_worth,\n",
      "            \"slope\":slope,\n",
      "            \"intercept\":intercept,\n",
      "            \"stats on test\":test_score,\n",
      "            \"stats on training\": training_score}"
     ],
     "language": "python",
     "metadata": {},
     "outputs": [],
     "prompt_number": 22
    },
    {
     "cell_type": "code",
     "collapsed": false,
     "input": [
      "print submitFit()"
     ],
     "language": "python",
     "metadata": {},
     "outputs": [
      {
       "output_type": "stream",
       "stream": "stdout",
       "text": [
        "{'slope': array([[ 6.47354955]]), 'stats on training': 0.87458823582171863, 'intercept': array([-14.35378331]), 'stats on test': 0.81236572923084704, 'networth': 160.43205453082504}\n"
       ]
      }
     ],
     "prompt_number": 23
    },
    {
     "cell_type": "heading",
     "level": 4,
     "metadata": {},
     "source": [
      "Linear Regression Error"
     ]
    },
    {
     "cell_type": "markdown",
     "metadata": {},
     "source": [
      "![jpg](../galleries/regression/5.jpg)"
     ]
    },
    {
     "cell_type": "markdown",
     "metadata": {},
     "source": [
      "As we can see the error is minimized by the given formula. The error in plot shown by the distance of the predicted value(from point x =35, point y = value that fall on the regression line)\n"
     ]
    },
    {
     "cell_type": "markdown",
     "metadata": {},
     "source": [
      "![jpg](../galleries/regression/6.jpg)"
     ]
    },
    {
     "cell_type": "markdown",
     "metadata": {},
     "source": [
      "\n",
      "The error that minimize is sum of the absolute squared of all sum error in the data points. The SKLearn use OLS for minimizing the sum of squared of error, and the other, gradient descent. For more information about gradient descent, please check my other [blog post](http://napitupulu-jon.appspot.com/posts/Gradient-Descent.html)."
     ]
    },
    {
     "cell_type": "heading",
     "level": 3,
     "metadata": {},
     "source": [
      "Classification vs Regression"
     ]
    },
    {
     "cell_type": "markdown",
     "metadata": {},
     "source": [
      "![jpg](../galleries/regression/8.jpg)"
     ]
    },
    {
     "cell_type": "markdown",
     "metadata": {},
     "source": [
      "These are general difference. The output is diferent, as I mentioned earlier. Supervised tries to find boundary, which tends to be finite/infinite. In regression it's whole other thing, we're try to find the trend of the data. Which linear/curve line that we can find to best find the trend of the data. Last the accuracy or r-squared in regression. This can be achieve automatically in scikit-learn score method."
     ]
    },
    {
     "cell_type": "markdown",
     "metadata": {},
     "source": [
      "![jpg](../galleries/regression/9.jpg)"
     ]
    },
    {
     "cell_type": "markdown",
     "metadata": {},
     "source": [
      "This is where we have more than one feature. To do this by intuition, we have to know what value of net worth every increase x1, and net worth every increase x2. in x1, net worth increase every 5 times. x2, increase every 2.5. Now if we combine these, we have over net worth, decrease it by putting the intercept value."
     ]
    },
    {
     "cell_type": "heading",
     "level": 3,
     "metadata": {},
     "source": [
      "Another problem"
     ]
    },
    {
     "cell_type": "markdown",
     "metadata": {},
     "source": [
      "![jpg](../galleries/regression/10.jpg)"
     ]
    },
    {
     "cell_type": "heading",
     "level": 3,
     "metadata": {},
     "source": [
      "Mini Project"
     ]
    },
    {
     "cell_type": "markdown",
     "metadata": {},
     "source": [
      "In this project, you will use regression to predict financial data for Enron employees and associates. Once you know some financial data about an employee, like their salary, what would you predict for the size of their bonus?"
     ]
    },
    {
     "cell_type": "code",
     "collapsed": false,
     "input": [
      "%load finance_regression.py"
     ],
     "language": "python",
     "metadata": {},
     "outputs": [],
     "prompt_number": 1
    },
    {
     "cell_type": "code",
     "collapsed": false,
     "input": [
      "#!/usr/bin/python\n",
      "\n",
      "\"\"\"\n",
      "    starter code for the regression mini-project\n",
      "    \n",
      "    loads up/formats a modified version of the dataset\n",
      "    (why modified?  we've removed some trouble points\n",
      "    that you'll find yourself in the outliers mini-project)\n",
      "\n",
      "    draws a little scatterplot of the training/testing data\n",
      "\n",
      "    you fill in the regression code where indicated\n",
      "\n",
      "\"\"\"    \n",
      "\n",
      "\n",
      "import sys\n",
      "import pickle\n",
      "sys.path.append(\"../tools/\")\n",
      "from feature_format import featureFormat, targetFeatureSplit\n",
      "dictionary = pickle.load( open(\"../final_project/final_project_dataset_modified.pkl\", \"r\") )\n",
      "\n",
      "### list the features you want to look at--first item in the \n",
      "### list will be the \"target\" feature\n",
      "features_list = [\"bonus\", \"salary\"]\n",
      "data = featureFormat( dictionary, features_list, remove_any_zeroes=True)#, \"long_term_incentive\"], remove_any_zeroes=True )\n",
      "\n",
      "target, features = targetFeatureSplit( data )\n",
      "\n",
      "### training-testing split needed in regression, just like classification\n",
      "from sklearn.cross_validation import train_test_split\n",
      "feature_train, feature_test, target_train, target_test = train_test_split(features, target, test_size=0.5, random_state=42)\n",
      "train_color = \"b\"\n",
      "test_color = \"b\"\n",
      "\n",
      "\n",
      "\n",
      "### your regression goes here!\n",
      "### please name it reg, so that the plotting code below picks it up and \n",
      "### plots it correctly\n",
      "\n",
      "\n",
      "\n",
      "\n",
      "\n",
      "\n",
      "\n",
      "\n",
      "### draw the scatterplot, with color-coded training and testing points\n",
      "import matplotlib.pyplot as plt\n",
      "for feature, target in zip(feature_test, target_test):\n",
      "    plt.scatter( feature, target, color=test_color ) \n",
      "for feature, target in zip(feature_train, target_train):\n",
      "    plt.scatter( feature, target, color=train_color ) \n",
      "\n",
      "### labels for the legend\n",
      "plt.scatter(feature_test[0], target_test[0], color=test_color, label=\"test\")\n",
      "plt.scatter(feature_test[0], target_test[0], color=train_color, label=\"train\")\n",
      "\n",
      "\n",
      "\n",
      "\n",
      "### draw the regression line, once it's coded\n",
      "try:\n",
      "    plt.plot( feature_test, reg.predict(feature_test) )\n",
      "except NameError:\n",
      "    pass\n",
      "plt.xlabel(features_list[1])\n",
      "plt.ylabel(features_list[0])\n",
      "plt.legend()\n",
      "plt.show()\n"
     ],
     "language": "python",
     "metadata": {},
     "outputs": [
      {
       "output_type": "stream",
       "stream": "stdout",
       "text": [
        "[ 600000.  365788.]\n"
       ]
      },
      {
       "metadata": {},
       "output_type": "display_data",
       "png": "[encoded data removed]",
       "text": [
        "<matplotlib.figure.Figure at 0x10dd9b410>"
       ]
      }
     ],
     "prompt_number": 23
    },
    {
     "cell_type": "heading",
     "level": 3,
     "metadata": {},
     "source": [
      "Let's use ggplot!"
     ]
    },
    {
     "cell_type": "code",
     "collapsed": false,
     "input": [
      "\n",
      "from pandas import *\n",
      "from ggplot import *\n",
      "\n",
      "d = {'feature':Series(feature_train+feature_test),\n",
      "     'label':Series(target_train+target_test),\n",
      "     'group':Series(['train']*len(target_train)+['test']*len(target_test))}\n",
      "\n",
      "df = DataFrame(d)\n",
      "\n",
      "pl = ggplot(aes(x='feature',y='label',color='group'),df) + geom_point()\n",
      "# ggsave(filename='saveme.jpg',plot=pl)\n",
      "print pl"
     ],
     "language": "python",
     "metadata": {},
     "outputs": [
      {
       "metadata": {},
       "output_type": "display_data",
       "png": "[encoded data removed]",
       "text": [
        "<matplotlib.figure.Figure at 0x10dc0c090>"
       ]
      },
      {
       "output_type": "stream",
       "stream": "stdout",
       "text": [
        "<ggplot: (282856601)>\n"
       ]
      }
     ],
     "prompt_number": 15
    },
    {
     "cell_type": "code",
     "collapsed": false,
     "input": [
      "df_sb = DataFrame.from_dict(dictionary,orient='index')"
     ],
     "language": "python",
     "metadata": {},
     "outputs": [],
     "prompt_number": 24
    },
    {
     "cell_type": "markdown",
     "metadata": {},
     "source": [
      "![jpg](../galleries/regression/11.jpg)"
     ]
    },
    {
     "cell_type": "code",
     "collapsed": false,
     "input": [
      "from sklearn import linear_model"
     ],
     "language": "python",
     "metadata": {},
     "outputs": [],
     "prompt_number": 26
    },
    {
     "cell_type": "code",
     "collapsed": false,
     "input": [
      "clf = linear_model.LinearRegression()\n",
      "clf.fit(feature_train,target_train)"
     ],
     "language": "python",
     "metadata": {},
     "outputs": [
      {
       "metadata": {},
       "output_type": "pyout",
       "prompt_number": 27,
       "text": [
        "LinearRegression(copy_X=True, fit_intercept=True, normalize=False)"
       ]
      }
     ],
     "prompt_number": 27
    },
    {
     "cell_type": "code",
     "collapsed": false,
     "input": [
      "print clf.coef_\n",
      "print clf.intercept_"
     ],
     "language": "python",
     "metadata": {},
     "outputs": [
      {
       "output_type": "stream",
       "stream": "stdout",
       "text": [
        "[ 5.44814029]\n",
        "-102360.543294\n"
       ]
      }
     ],
     "prompt_number": 29
    },
    {
     "cell_type": "markdown",
     "metadata": {},
     "source": [
      "Imagine you were a less savvy machine learner, and didn\u2019t know to test on a holdout test set. Instead, you tested on the same data that you used to train, by comparing the regression predictions to the target values (i.e. bonuses) in the training data. What score do you find? You may not have an intuition yet for what a \u201cgood\u201d score is; this score isn\u2019t very good (but it could be a lot worse)."
     ]
    },
    {
     "cell_type": "code",
     "collapsed": false,
     "input": [
      "clf.score(feature_train,target_train)"
     ],
     "language": "python",
     "metadata": {},
     "outputs": [
      {
       "metadata": {},
       "output_type": "pyout",
       "prompt_number": 30,
       "text": [
        "0.045509192699524359"
       ]
      }
     ],
     "prompt_number": 30
    },
    {
     "cell_type": "markdown",
     "metadata": {},
     "source": [
      "Now compute the score for your regression on the test data, like you know you should. What\u2019s that score on the testing data? If you made the mistake of only assessing on the training data, would you overestimate or underestimate the performance of your regression?"
     ]
    },
    {
     "cell_type": "code",
     "collapsed": false,
     "input": [
      "clf.score(feature_test,target_test)"
     ],
     "language": "python",
     "metadata": {},
     "outputs": [
      {
       "metadata": {},
       "output_type": "pyout",
       "prompt_number": 31,
       "text": [
        "-1.484992417368511"
       ]
      }
     ],
     "prompt_number": 31
    },
    {
     "cell_type": "markdown",
     "metadata": {},
     "source": [
      "There are lots of finance features available, some of which might be more powerful than others in terms of predicting a person\u2019s bonus. For example, suppose you thought about the data a bit and guess that the \u201clong_term_incentive\u201d feature, which is supposed to reward employees for contributing to the long-term health of the company, might be more closely related to a person\u2019s bonus than their salary is.\n",
      "\n",
      "A way to confirm that you\u2019re right in this hypothesis is to regress the bonus against the long term incentive, and see if the regression score is significantly higher than regressing the bonus against the salary. Perform the regression of bonus against long term incentive--what\u2019s the score on the test data?"
     ]
    },
    {
     "cell_type": "code",
     "collapsed": false,
     "input": [
      "features_list = [\"bonus\", \"long_term_incentive\"]\n",
      "data = featureFormat( dictionary, features_list, remove_any_zeroes=True)#, \"long_term_incentive\"], remove_any_zeroes=True )\n",
      "\n",
      "target, features = targetFeatureSplit( data )\n",
      "\n",
      "### training-testing split needed in regression, just like classification\n",
      "from sklearn.cross_validation import train_test_split\n",
      "feature_train, feature_test, target_train, target_test = train_test_split(features, target, test_size=0.5, random_state=42)\n"
     ],
     "language": "python",
     "metadata": {},
     "outputs": [],
     "prompt_number": 32
    },
    {
     "cell_type": "code",
     "collapsed": false,
     "input": [
      "clf = linear_model.LinearRegression()"
     ],
     "language": "python",
     "metadata": {},
     "outputs": [],
     "prompt_number": 33
    },
    {
     "cell_type": "code",
     "collapsed": false,
     "input": [
      "clf.fit(feature_train,target_train)"
     ],
     "language": "python",
     "metadata": {},
     "outputs": [
      {
       "metadata": {},
       "output_type": "pyout",
       "prompt_number": 34,
       "text": [
        "LinearRegression(copy_X=True, fit_intercept=True, normalize=False)"
       ]
      }
     ],
     "prompt_number": 34
    },
    {
     "cell_type": "code",
     "collapsed": false,
     "input": [
      "clf.score(feature_test,target_test)"
     ],
     "language": "python",
     "metadata": {},
     "outputs": [
      {
       "metadata": {},
       "output_type": "pyout",
       "prompt_number": 35,
       "text": [
        "-0.59271289994986431"
       ]
      }
     ],
     "prompt_number": 35
    },
    {
     "cell_type": "markdown",
     "metadata": {},
     "source": [
      "If you had to predict someone\u2019s bonus and you could only have one piece of information about them, would you rather know their salary or the long term incentive that they received?"
     ]
    },
    {
     "cell_type": "markdown",
     "metadata": {},
     "source": [
      "Better score will produce better fit"
     ]
    },
    {
     "cell_type": "markdown",
     "metadata": {},
     "source": [
      "This is a sneak peek of the next lesson, on outlier identification and removal. Go back to a setup where you are using the salary to predict the bonus, and rerun the code to remind yourself of what the data look like. You might notice a few data points that fall outside the main trend, someone who gets a high salary (over a million dollars!) but a relatively small bonus. This is an example of an outlier, and we\u2019ll spend lots of time on them in the next lesson.\n",
      "\n",
      "A point like this can have a big effect on a regression: if it falls in the training set, it can have a significant effect on the slope/intercept if it falls in the test set, it can make the score much lower than it would otherwise be As things stand right now, this point falls into the test set (and probably hurting the score on our test data as a result). Let\u2019s add a little hack to see what happens if it falls in the training set instead. Add these two lines near the bottom of finance_regression.py, right before plt.xlabel(features_list[1]):\n",
      "\n",
      "    reg.fit(feature_test, target_test)\n",
      "    plt.plot(feature_train, reg.predict(feature_train), color=\"r\") \n",
      "\n",
      "Now we\u2019ll be drawing two regression lines, one fit on the test data (with outlier) and one fit on the training data (no outlier). Look at the plot now--big difference, huh? That single outlier is driving most of the difference. What\u2019s the slope of the new regression line?\n",
      "\n",
      "(That\u2019s a big difference, and it\u2019s mostly driven by the outliers. The next lesson will dig into outliers in more detail so you have tools to detect and deal with them.)"
     ]
    },
    {
     "cell_type": "code",
     "collapsed": false,
     "input": [
      "#!/usr/bin/python\n",
      "\n",
      "\"\"\"\n",
      "    starter code for the regression mini-project\n",
      "    \n",
      "    loads up/formats a modified version of the dataset\n",
      "    (why modified?  we've removed some trouble points\n",
      "    that you'll find yourself in the outliers mini-project)\n",
      "\n",
      "    draws a little scatterplot of the training/testing data\n",
      "\n",
      "    you fill in the regression code where indicated\n",
      "\n",
      "\"\"\"    \n",
      "\n",
      "\n",
      "import sys\n",
      "import pickle\n",
      "sys.path.append(\"../tools/\")\n",
      "from feature_format import featureFormat, targetFeatureSplit\n",
      "dictionary = pickle.load( open(\"../final_project/final_project_dataset_modified.pkl\", \"r\") )\n",
      "\n",
      "### list the features you want to look at--first item in the \n",
      "### list will be the \"target\" feature\n",
      "features_list = [\"bonus\", \"salary\"]\n",
      "data = featureFormat( dictionary, features_list, remove_any_zeroes=True)#, \"long_term_incentive\"], remove_any_zeroes=True )\n",
      "\n",
      "target, features = targetFeatureSplit( data )\n",
      "\n",
      "### training-testing split needed in regression, just like classification\n",
      "from sklearn.cross_validation import train_test_split\n",
      "feature_train, feature_test, target_train, target_test = train_test_split(features, target, test_size=0.5, random_state=42)\n",
      "train_color = \"b\"\n",
      "test_color = \"b\"\n",
      "\n",
      "\n",
      "\n",
      "### your regression goes here!\n",
      "### please name it reg, so that the plotting code below picks it up and \n",
      "### plots it correctly\n",
      "\n",
      "\n",
      "from sklearn import linear_model\n",
      "\n",
      "reg = linear_model.LinearRegression()\n",
      "reg.fit(feature_train,target_train)\n",
      "\n",
      "\n",
      "\n",
      "### draw the scatterplot, with color-coded training and testing points\n",
      "import matplotlib.pyplot as plt\n",
      "for feature, target in zip(feature_test, target_test):\n",
      "    plt.scatter( feature, target, color=test_color ) \n",
      "for feature, target in zip(feature_train, target_train):\n",
      "    plt.scatter( feature, target, color=train_color ) \n",
      "\n",
      "### labels for the legend\n",
      "plt.scatter(feature_test[0], target_test[0], color=test_color, label=\"test\")\n",
      "plt.scatter(feature_test[0], target_test[0], color=train_color, label=\"train\")\n",
      "\n",
      "\n",
      "\n",
      "\n",
      "### draw the regression line, once it's coded\n",
      "try:\n",
      "    plt.plot( feature_test, reg.predict(feature_test) )\n",
      "except NameError:\n",
      "    pass\n",
      "reg.fit(feature_test, target_test)\n",
      "plt.plot(feature_train, reg.predict(feature_train), color=\"r\")\n",
      "\n",
      "\n",
      "plt.xlabel(features_list[1])\n",
      "plt.ylabel(features_list[0])\n",
      "plt.legend()\n",
      "plt.show()\n"
     ],
     "language": "python",
     "metadata": {},
     "outputs": [
      {
       "metadata": {},
       "output_type": "display_data",
       "png": "[encoded data removed]",
       "text": [
        "<matplotlib.figure.Figure at 0x10e665e10>"
       ]
      }
     ],
     "prompt_number": 36
    },
    {
     "cell_type": "code",
     "collapsed": false,
     "input": [
      "reg.coef_"
     ],
     "language": "python",
     "metadata": {},
     "outputs": [
      {
       "metadata": {},
       "output_type": "pyout",
       "prompt_number": 37,
       "text": [
        "array([ 2.27410114])"
       ]
      }
     ],
     "prompt_number": 37
    },
    {
     "cell_type": "markdown",
     "metadata": {},
     "source": [
      "The slope is about 2.27 after removing the outlier, which is a big difference from what we had before (about 5.4). A small number of outliers makes a big difference!"
     ]
    },
    {
     "cell_type": "markdown",
     "metadata": {},
     "source": [
      "> **REFERENCE**:\n",
      "\n",
      "> * https://www.udacity.com/course/viewer#!/c-ud120/l-2301748537"
     ]
    },
    {
     "cell_type": "markdown",
     "metadata": {},
     "source": []
    }
   ],
   "metadata": {}
  }
 ]
}